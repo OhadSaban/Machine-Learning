{
 "cells": [
  {
   "cell_type": "markdown",
   "metadata": {
    "nbgrader": {
     "grade": false,
     "grade_id": "cell-6bd0516e7cb654f5",
     "locked": true,
     "schema_version": 1,
     "solution": false
    }
   },
   "source": [
    "# Exercise 2: Decision Trees\n",
    "\n",
    "In this assignment you will implement a Decision Tree algorithm as learned in class.\n",
    "\n",
    "## Read the following instructions carefully:\n",
    "\n",
    "1. This jupyter notebook contains all the step by step instructions needed for this exercise.\n",
    "1. Submission includes this notebook only with the exercise number and your ID as the filename. For example: `hw2_123456789_987654321.ipynb` if you submitted in pairs and `hw2_123456789.ipynb` if you submitted the exercise alone.\n",
    "1. Write **efficient vectorized** code whenever possible. Some calculations in this exercise take several minutes when implemented efficiently, and might take much longer otherwise. Unnecessary loops will result in point deduction.\n",
    "1. You are responsible for the correctness of your code and should add as many tests as you see fit. Tests will not be graded nor checked.\n",
    "1. Write your functions in this notebook only. **Do not create Python modules and import them**.\n",
    "1. You are allowed to use functions and methods from the [Python Standard Library](https://docs.python.org/3/library/) and [numpy](https://www.numpy.org/devdocs/reference/) only. **Do not import anything else.**\n",
    "1. Your code must run without errors. Make sure your `numpy` version is at least 1.15.4 and that you are using at least python 3.6. Changes of the configuration we provided are at your own risk. Any code that cannot run will not be graded.\n",
    "1. Write your own code. Cheating will not be tolerated.\n",
    "1. Answers to qualitative questions should be written in **markdown** cells (with $\\LaTeX$ support). Answers that will be written in commented code blocks will not be checked.\n",
    "\n",
    "## In this exercise you will perform the following:\n",
    "1. Practice OOP in python.\n",
    "2. Implement two impurity measures: Gini and Entropy.\n",
    "3. Construct a decision tree algorithm.\n",
    "4. Prune the tree to achieve better results.\n",
    "5. Visualize your results."
   ]
  },
  {
   "cell_type": "markdown",
   "metadata": {},
   "source": [
    "# I have read and understood the instructions: 208253542, 206019705"
   ]
  },
  {
   "cell_type": "code",
   "execution_count": 1,
   "metadata": {
    "nbgrader": {
     "grade": false,
     "grade_id": "cell-ed9fe7b1026e33cb",
     "locked": true,
     "schema_version": 1,
     "solution": false
    }
   },
   "outputs": [],
   "source": [
    "import numpy as np\n",
    "import pandas as pd\n",
    "import matplotlib.pyplot as plt\n",
    "\n",
    "# make matplotlib figures appear inline in the notebook\n",
    "%matplotlib inline\n",
    "plt.rcParams['figure.figsize'] = (10.0, 8.0) # set default size of plots\n",
    "plt.rcParams['image.interpolation'] = 'nearest'\n",
    "plt.rcParams['image.cmap'] = 'gray'\n",
    "\n",
    "# Ignore warnings\n",
    "import warnings\n",
    "warnings.filterwarnings('ignore')"
   ]
  },
  {
   "cell_type": "markdown",
   "metadata": {
    "nbgrader": {
     "grade": false,
     "grade_id": "cell-c6ac605270c2b091",
     "locked": true,
     "schema_version": 1,
     "solution": false
    }
   },
   "source": [
    "## Warmup - OOP in python\n",
    "\n",
    "Our desicion tree will be implemented using a dedicated python class. Python classes are very similar to classes in Java.\n",
    "\n",
    "\n",
    "You can use the following [site](https://jeffknupp.com/blog/2014/06/18/improve-your-python-python-classes-and-object-oriented-programming/) to learn about classes in python."
   ]
  },
  {
   "cell_type": "code",
   "execution_count": 2,
   "metadata": {},
   "outputs": [],
   "source": [
    "class Node(object):\n",
    "    def __init__(self, data):\n",
    "        self.data = data\n",
    "        self.children = []\n",
    "\n",
    "    def add_child(self, node):\n",
    "        self.children.append(node)"
   ]
  },
  {
   "cell_type": "code",
   "execution_count": 3,
   "metadata": {},
   "outputs": [
    {
     "data": {
      "text/plain": [
       "[<__main__.Node at 0x21e856361f0>, <__main__.Node at 0x21e856360d0>]"
      ]
     },
     "execution_count": 3,
     "metadata": {},
     "output_type": "execute_result"
    }
   ],
   "source": [
    "n = Node(5)\n",
    "p = Node(6)\n",
    "q = Node(7)\n",
    "n.add_child(p)\n",
    "n.add_child(q)\n",
    "n.children"
   ]
  },
  {
   "cell_type": "markdown",
   "metadata": {
    "nbgrader": {
     "grade": false,
     "grade_id": "cell-2f1ceb251c649b62",
     "locked": true,
     "schema_version": 1,
     "solution": false
    }
   },
   "source": [
    "## Data preprocessing\n",
    "\n",
    "For the following exercise, we will use a dataset containing mushroom data `agaricus-lepiota.csv`. \n",
    "\n",
    "This data set includes descriptions of hypothetical samples corresponding to 23 species of gilled mushrooms in the Agaricus and Lepiota Family. Each species is identified as definitely edible, definitely poisonous, or of unknown edibility and not recommended. This latter class was combined with the poisonous\n",
    "one (=there are only two classes **edible** and **poisonous**). \n",
    "    \n",
    "The dataset contains 8124 observations with 22 features:\n",
    "1. cap-shape: bell=b,conical=c,convex=x,flat=f,knobbed=k,sunken=s\n",
    "2. cap-surface: fibrous=f,grooves=g,scaly=y,smooth=s\n",
    "3. cap-color: brown=n,buff=b,cinnamon=c,gray=g,green=r,pink=p,purple=u,red=e,white=w,yellow=y\n",
    "4. bruises: bruises=t,no=f\n",
    "5. odor: almond=a,anise=l,creosote=c,fishy=y,foul=f, musty=m,none=n,pungent=p,spicy=s\n",
    "6. gill-attachment: attached=a,descending=d,free=f,notched=n\n",
    "7. gill-spacing: close=c,crowded=w,distant=d\n",
    "8. gill-size: broad=b,narrow=n\n",
    "9. gill-color: black=k,brown=n,buff=b,chocolate=h,gray=g,green=r,orange=o,pink=p,purple=u,red=e,white=w,yellow=y\n",
    "10. stalk-shape: enlarging=e,tapering=t\n",
    "11. stalk-root: bulbous=b,club=c,cup=u,equal=e,rhizomorphs=z,rooted=r\n",
    "12. stalk-surface-above-ring: fibrous=f,scaly=y,silky=k,smooth=s\n",
    "13. stalk-surface-below-ring: fibrous=f,scaly=y,silky=k,smooth=s\n",
    "14. stalk-color-above-ring: brown=n,buff=b,cinnamon=c,gray=g,orange=o,pink=p,red=e,white=w,yellow=y\n",
    "15. stalk-color-below-ring: brown=n,buff=b,cinnamon=c,gray=g,orange=o,pink=p,red=e,white=w,yellow=y\n",
    "16. veil-type: partial=p,universal=u\n",
    "17. veil-color: brown=n,orange=o,white=w,yellow=y\n",
    "18. ring-number: none=n,one=o,two=t\n",
    "19. ring-type: cobwebby=c,evanescent=e,flaring=f,large=l,none=n,pendant=p,sheathing=s,zone=z\n",
    "20. spore-print-color: black=k,brown=n,buff=b,chocolate=h,green=r,orange=o,purple=u,white=w,yellow=y\n",
    "21. population: abundant=a,clustered=c,numerous=n,scattered=s,several=v,solitary=y\n",
    "22. habitat: grasses=g,leaves=l,meadows=m,paths=p,urban=u,waste=w,woods=d\n",
    "\n",
    "First, we will read and explore the data using pandas and the `.read_csv` method. Pandas is an open source library providing high-performance, easy-to-use data structures and data analysis tools for the Python programming language."
   ]
  },
  {
   "cell_type": "code",
   "execution_count": 4,
   "metadata": {
    "nbgrader": {
     "grade": false,
     "grade_id": "cell-d79cb4542926ad3f",
     "locked": true,
     "schema_version": 1,
     "solution": false
    }
   },
   "outputs": [],
   "source": [
    "# load dataset\n",
    "data = pd.read_csv('agaricus-lepiota.csv')"
   ]
  },
  {
   "cell_type": "markdown",
   "metadata": {},
   "source": [
    "One of the advantages of the Decision Tree algorithm is that almost no preprocessing is required. However, finding missing values is always required."
   ]
  },
  {
   "cell_type": "code",
   "execution_count": 5,
   "metadata": {},
   "outputs": [],
   "source": [
    "#############################################################################\n",
    "# Find columns with missing values and remove them from the data.#\n",
    "#############################################################################\n",
    "\n",
    "data.dropna(axis=0, inplace=True, subset=data.columns)\n",
    "\n",
    "#############################################################################\n",
    "#                             END OF YOUR CODE                              #\n",
    "#############################################################################"
   ]
  },
  {
   "cell_type": "markdown",
   "metadata": {},
   "source": [
    "We will split the dataset to `Training` and `Testing` datasets."
   ]
  },
  {
   "cell_type": "code",
   "execution_count": 6,
   "metadata": {},
   "outputs": [
    {
     "name": "stdout",
     "output_type": "stream",
     "text": [
      "Training dataset shape:  (6093, 22)\n",
      "Testing dataset shape:  (2031, 22)\n"
     ]
    }
   ],
   "source": [
    "from sklearn.model_selection import train_test_split\n",
    "# Making sure the last column will hold the labels\n",
    "X, y = data.drop('class', axis=1), data['class']\n",
    "X = np.column_stack([X,y])\n",
    "# split dataset using random_state to get the same split each time\n",
    "X_train, X_test = train_test_split(X, random_state=99)\n",
    "\n",
    "print(\"Training dataset shape: \", X_train.shape)\n",
    "print(\"Testing dataset shape: \", X_test.shape)"
   ]
  },
  {
   "cell_type": "code",
   "execution_count": 7,
   "metadata": {},
   "outputs": [
    {
     "data": {
      "text/plain": [
       "(8124,)"
      ]
     },
     "execution_count": 7,
     "metadata": {},
     "output_type": "execute_result"
    }
   ],
   "source": [
    "y.shape"
   ]
  },
  {
   "cell_type": "markdown",
   "metadata": {
    "nbgrader": {
     "grade": false,
     "grade_id": "cell-fd7b0191f3f1e897",
     "locked": true,
     "schema_version": 1,
     "solution": false
    }
   },
   "source": [
    "## Impurity Measures\n",
    "\n",
    "Impurity is a measure of how often a randomly chosen element from the set would be incorrectly labeled if it was randomly labeled according to the distribution of labels in the subset. Implement the functions `calc_gini` and `calc_entropy`. You are encouraged to test your implementation (10 points)."
   ]
  },
  {
   "cell_type": "code",
   "execution_count": 8,
   "metadata": {},
   "outputs": [],
   "source": [
    "def calc_gini(data):\n",
    "    \"\"\"\n",
    "    Calculate gini impurity measure of a dataset.\n",
    " \n",
    "    Input:\n",
    "    - data: any dataset where the last column holds the labels.\n",
    " \n",
    "    Returns the gini impurity.    \n",
    "    \"\"\"\n",
    "    gini = 0.0\n",
    "    # we have 2 distinct classes: e and p\n",
    "    _, distinct_counts = np.unique(data[:, -1], return_counts=True)\n",
    "    s_total = sum(distinct_counts) # |S|\n",
    "    \n",
    "    gini = np.sum((distinct_counts / s_total)**2)\n",
    "    gini = 1 - gini\n",
    "    \n",
    "    return gini"
   ]
  },
  {
   "cell_type": "code",
   "execution_count": 9,
   "metadata": {},
   "outputs": [],
   "source": [
    "def calc_entropy(data):\n",
    "    \"\"\"\n",
    "    Calculate the entropy of a dataset.\n",
    "\n",
    "    Input:\n",
    "    - data: any dataset where the last column holds the labels.\n",
    "\n",
    "    Returns the entropy of the dataset.    \n",
    "    \"\"\"\n",
    "    entropy = 0.0\n",
    "    _, distinct_counts = np.unique(data[:, -1], return_counts=True)\n",
    "    s_total = sum(distinct_counts) # |S|\n",
    "    \n",
    "    entropy = np.sum((distinct_counts / s_total) * np.log2((distinct_counts / s_total)))\n",
    "\n",
    "    return -entropy"
   ]
  },
  {
   "cell_type": "code",
   "execution_count": 10,
   "metadata": {
    "scrolled": true
   },
   "outputs": [
    {
     "data": {
      "text/plain": [
       "(0.4995636322379775, 0.9993703627906085)"
      ]
     },
     "execution_count": 10,
     "metadata": {},
     "output_type": "execute_result"
    }
   ],
   "source": [
    "calc_gini(X), calc_entropy(X)"
   ]
  },
  {
   "cell_type": "markdown",
   "metadata": {},
   "source": [
    "## Goodness of Split\n",
    "\n",
    "Given a feature the Goodnees of Split measures the reduction in the impurity if we split the data according to the feature.\n",
    "$$\n",
    "\\Delta\\varphi(S, A) = \\varphi(S) - \\sum_{v\\in Values(A)} \\frac{|S_v|}{|S|}\\varphi(S_v)\n",
    "$$\n",
    "\n",
    "In our implementation the goodness_of_split function will return either the Goodness of Split or the Gain Ratio as learned in class. You'll control the return value with the `gain_ratio` parameter. If this parameter will set to False (the default value) it will return the regular Goodness of Split. If it will set to True it will return the Gain Ratio.\n",
    "$$\n",
    "GainRatio(S,A)=\\frac{InformationGain(S,A)}{SplitInformation(S,A)}\n",
    "$$\n",
    "Where:\n",
    "$$\n",
    "InformationGain(S,A)=Goodness\\ of\\ Split\\ calculated\\ with\\ Entropy\\ as\\ the\\ Impurity\\ function \\\\\n",
    "SplitInformation(S,A)=- \\sum_{a\\in A} \\frac{|S_a|}{|S|}\\log\\frac{|S_a|}{|S|}\n",
    "$$\n",
    "NOTE: you can add more parameters to the function and you can also add more returning variables (The given parameters and the given returning variable should not be touch). (10 Points)"
   ]
  },
  {
   "cell_type": "code",
   "execution_count": 11,
   "metadata": {},
   "outputs": [],
   "source": [
    "def goodness_of_split(data, feature, impurity_func, gain_ratio=False):\n",
    "    \"\"\"\n",
    "    Calculate the goodness of split of a dataset given a feature and impurity function.\n",
    "\n",
    "    Input:\n",
    "    - data: any dataset where the last column holds the labels.\n",
    "    - feature: the feature index.\n",
    "    - impurity func: a function that calculates the impurity.\n",
    "    - gain_ratio: goodness of split or gain ratio flag.\n",
    "\n",
    "    Returns the goodness of split (or the Gain Ration).  \n",
    "    \"\"\"\n",
    "    goodness = 0\n",
    "    # 2d array: first col is feature, second col is class. array is sorted by first col\n",
    "    sortedFAndClass = data[:, [feature, -1]][data[:, [feature, -1]][:, 0].argsort()]\n",
    "    s_total = len(sortedFAndClass)  # |S|\n",
    "\n",
    "    if gain_ratio:\n",
    "        # return gain_ration\n",
    "        phi = calc_entropy\n",
    "    else:\n",
    "        # return info_gain\n",
    "        phi = impurity_func\n",
    "\n",
    "    goodness = phi(data) # root impurity\n",
    "    sig = 0\n",
    "    last_index = 0\n",
    "    last_cell = sortedFAndClass[0, 0]\n",
    "\n",
    "    # run over rows, calc Sv (find distinct values) and calc Sigma\n",
    "    for i, cell in enumerate(sortedFAndClass):\n",
    "        if cell[0] != last_cell:\n",
    "            sig += (len(sortedFAndClass[last_index:i]) / s_total) * phi(sortedFAndClass[last_index:i])\n",
    "            last_index = i\n",
    "        last_cell = cell[0]\n",
    "    # dont forget last value\n",
    "    sig += (len(sortedFAndClass[last_index:]) / s_total) * phi(sortedFAndClass[last_index:])\n",
    "\n",
    "    if gain_ratio:\n",
    "        goodness -= sig\n",
    "        goodness = goodness / calc_entropy(np.column_stack([data[:, feature]]))\n",
    "    else:\n",
    "        goodness = goodness - sig\n",
    "\n",
    "    return goodness\n"
   ]
  },
  {
   "cell_type": "code",
   "execution_count": 12,
   "metadata": {},
   "outputs": [
    {
     "name": "stdout",
     "output_type": "stream",
     "text": [
      "0.01669690368688675\n"
     ]
    }
   ],
   "source": [
    "# goodness_of_split test\n",
    "goodness = goodness_of_split(X_train, 0, calc_entropy, True)\n",
    "print(goodness)"
   ]
  },
  {
   "cell_type": "markdown",
   "metadata": {},
   "source": [
    "## Building a Decision Tree\n",
    "\n",
    "Use a Python class to construct the decision tree. Your class should support the following functionality:\n",
    "\n",
    "1. Initiating a node for a decision tree. You will need to use several class methods and class attributes and you are free to use them as you see fit. We recommend that every node will hold the feature and value used for the split and its children.\n",
    "2. Your code should support both Gini and Entropy as impurity measures. \n",
    "3. The provided data includes categorical data. In this exercise, when splitting a node create the number of children needed according to the attribute unique values.\n",
    "\n",
    "Complete the class `DecisionNode`. The structure of this class is entirely up to you. \n",
    "\n",
    "Complete the function `build_tree`. This function should get the training dataset and the impurity as inputs, initiate a root for the decision tree and construct the tree according to the procedure you learned in class. (30 points)"
   ]
  },
  {
   "cell_type": "code",
   "execution_count": 13,
   "metadata": {},
   "outputs": [],
   "source": [
    "class DecisionNode:\n",
    "    \"\"\"\n",
    "    This class will hold everything you require to construct a decision tree.\n",
    "    The structure of this class is up to you. However, you need to support basic \n",
    "    functionality as described above. It is highly recommended that you \n",
    "    first read and understand the entire exercise before diving into this class.\n",
    "    \"\"\"\n",
    "    def __init__(self, feature, father, value, data, depth, pred):\n",
    "        self.children = []\n",
    "        self.feature = feature # column index of criteria being tested\n",
    "        self.father = father\n",
    "        self.value = value\n",
    "        self.data = data\n",
    "        self.depth = depth\n",
    "        self.pred = pred\n",
    "\n",
    "    def update_feature(self, feature):\n",
    "        self.feature = feature\n",
    "\n",
    "    def add_child(self, node):\n",
    "        self.children.append(node)"
   ]
  },
  {
   "cell_type": "code",
   "execution_count": 14,
   "metadata": {},
   "outputs": [],
   "source": [
    "\n",
    "# guess the most likely value \n",
    "def make_prediction(data):\n",
    "    distinct_values, distinct_counts = np.unique(data[:, -1], return_counts=True)\n",
    "    max_index, max_val = 0, 0\n",
    "    for i, d in enumerate(distinct_counts):\n",
    "        if max_val <= d:\n",
    "            max_val = d\n",
    "            max_index = i\n",
    "    return distinct_values[max_index] \n",
    "\n",
    "def split_by_feature(data, father_node, feature_index, min_samples_split):\n",
    "    \"\"\"\n",
    "        split data by feature,\n",
    "        every unique value is turned into a child of the given father\n",
    "        data passed to child conssists of all relevent rows and colums\n",
    "    \"\"\"\n",
    "    if len(father_node.data) < min_samples_split:\n",
    "        father_node.children = []\n",
    "        return -1\n",
    "\n",
    "    sortedFAndClass = data[data[:, feature_index].argsort()]\n",
    "    last_index = 0\n",
    "    last_cell = sortedFAndClass[0, feature_index]\n",
    "\n",
    "    for i, cells in enumerate(sortedFAndClass):\n",
    "        cell = cells[feature_index]\n",
    "\n",
    "        if cell != last_cell:\n",
    "            father_node.add_child(\n",
    "                DecisionNode(\n",
    "                    None, father_node, last_cell, sortedFAndClass[last_index:i], father_node.depth + 1, make_prediction(sortedFAndClass[last_index:i])\n",
    "                )\n",
    "            )\n",
    "            last_index = i\n",
    "        last_cell = cell\n",
    "\n",
    "    # dont forget to add last value\n",
    "    father_node.add_child(\n",
    "        DecisionNode(\n",
    "            None, father_node, last_cell, sortedFAndClass[last_index:], father_node.depth + 1, make_prediction(sortedFAndClass[last_index:])\n",
    "        )\n",
    "    )\n",
    "\n",
    "def find_best_split(data, impurity, gain_ratio):\n",
    "    \"\"\"\n",
    "    given a father node,\n",
    "    find the best goodness while running of the give data\n",
    "    \"\"\"\n",
    "    max_val, best_feature = 0, 0\n",
    "    for feature_index in range(data.shape[1]-1):\n",
    "        goodness = goodness_of_split(data, feature_index, impurity, gain_ratio)\n",
    "        if goodness > max_val:\n",
    "            max_val = goodness\n",
    "            best_feature = feature_index\n",
    "    # no improvment in goodness\n",
    "    if not max_val:\n",
    "        return -1\n",
    "\n",
    "    return best_feature\n",
    "\n",
    "\n",
    "def build_tree(data, impurity, gain_ratio=False, min_samples_split=1, max_depth=1000):\n",
    "    \"\"\"\n",
    "    Build a tree using the given impurity measure and training dataset.\n",
    "    You are required to fully grow the tree until all leaves are pure.\n",
    "\n",
    "    Input:\n",
    "    - data: the training dataset.\n",
    "    - impurity: the chosen impurity measure. Notice that you can send a function\n",
    "                as an argument in python.\n",
    "    - gain_ratio: goodness of split or gain ratio flag\n",
    "    - min_samples_split: the minimum number of samples required to split an internal node\n",
    "    - max_depth: the allowable depth of the tree\n",
    "\n",
    "    Output: the root node of the tree.\n",
    "    \"\"\"\n",
    "    root = DecisionNode(None, None, None, data, 0, make_prediction(data))\n",
    "    best_feature = find_best_split(data, impurity, gain_ratio)\n",
    "    root.update_feature(best_feature)\n",
    "    status = split_by_feature(data, root, best_feature, min_samples_split)\n",
    "    if status == -1:\n",
    "        return root\n",
    "\n",
    "    next_father = root\n",
    "    children_list = [root]\n",
    "\n",
    "    while (len(children_list)):\n",
    "        next_father = children_list.pop()\n",
    "\n",
    "        for child in next_father.children:\n",
    "            best_feature = find_best_split(child.data, impurity, gain_ratio)\n",
    "            # make sure we done split when max_depth is reached\n",
    "            if child.depth >= max_depth:\n",
    "                continue\n",
    "            if best_feature != -1:\n",
    "                child.update_feature(best_feature)\n",
    "                status = split_by_feature(child.data, child, best_feature, min_samples_split)\n",
    "            children_list.append(child)\n",
    "\n",
    "    return root\n"
   ]
  },
  {
   "cell_type": "code",
   "execution_count": 15,
   "metadata": {},
   "outputs": [],
   "source": [
    "# python supports passing a function as an argument to another function.\n",
    "tree_gini = build_tree(data=X_train, impurity=calc_gini) # gini and goodness of split\n",
    "tree_entropy = build_tree(data=X_train, impurity=calc_entropy) # entropy and goodness of split\n",
    "tree_entropy_gain_ratio = build_tree(data=X_train, impurity=calc_entropy, gain_ratio=True) # entropy and gain ratio"
   ]
  },
  {
   "cell_type": "markdown",
   "metadata": {},
   "source": [
    "## Tree evaluation\n",
    "\n",
    "Complete the functions `predict` and `calc_accuracy`. (10 points)"
   ]
  },
  {
   "cell_type": "code",
   "execution_count": 16,
   "metadata": {},
   "outputs": [],
   "source": [
    "def predict(node, instance):\n",
    "    \"\"\"\n",
    "    Predict a given instance using the decision tree\n",
    " \n",
    "    Input:\n",
    "    - root: the root of the decision tree.\n",
    "    - instance: an row vector from the dataset. Note that the last element \n",
    "                of this vector is the label of the instance.\n",
    " \n",
    "    Output: the prediction of the instance.\n",
    "    \"\"\"\n",
    "\n",
    "    while(len(node.children)):\n",
    "        vec_val = instance[node.feature]\n",
    "        found = False # if no match, predict using current node's data\n",
    "        for child in node.children:\n",
    "            if child.value == vec_val:\n",
    "                node = child\n",
    "                found = True\n",
    "                break\n",
    "        if not found:\n",
    "            return node.pred\n",
    "\n",
    "    return node.pred"
   ]
  },
  {
   "cell_type": "code",
   "execution_count": 17,
   "metadata": {},
   "outputs": [],
   "source": [
    "def calc_accuracy(node, dataset):\n",
    "    \"\"\"\n",
    "    Predict a given dataset using the decision tree\n",
    " \n",
    "    Input:\n",
    "    - node: a node in the decision tree.\n",
    "    - dataset: the dataset on which the accuracy is evaluated\n",
    " \n",
    "    Output: the accuracy of the decision tree on the given dataset (%).\n",
    "    \"\"\"\n",
    "    accuracy = 0\n",
    "    num_of_right = 0\n",
    "    for instance in dataset:\n",
    "        pred = predict(node, instance)\n",
    "        if pred == instance[-1]:\n",
    "            num_of_right+=1\n",
    "    \n",
    "    accuracy = (num_of_right / len(dataset)) * 100\n",
    "    return accuracy "
   ]
  },
  {
   "cell_type": "markdown",
   "metadata": {},
   "source": [
    "After building the three trees using the training set, you should calculate the accuracy on the test set. For each tree print the training and test accuracy. Select the tree that gave you the best test accuracy. For the rest of the exercise, use that tree (when you asked to build another tree use the same impurity function and same gain_ratio flag). "
   ]
  },
  {
   "cell_type": "code",
   "execution_count": 18,
   "metadata": {},
   "outputs": [
    {
     "name": "stdout",
     "output_type": "stream",
     "text": [
      "tree_gini:\n",
      "77.69571639586411\n",
      "99.24503528639423\n",
      "#########\n",
      "tree_entropy:\n",
      "78.13884785819793\n",
      "99.40915805022156\n",
      "#########\n",
      "tree_entropy_gain_ratio\n",
      "79.02511078286558\n",
      "99.63892991957984\n"
     ]
    }
   ],
   "source": [
    "#### Your code here ####\n",
    "print(\"tree_gini:\")\n",
    "print(calc_accuracy(tree_gini, X_test))\n",
    "print(calc_accuracy(tree_gini, X_train))\n",
    "print(\"#########\")\n",
    "\n",
    "print(\"tree_entropy:\")\n",
    "print(calc_accuracy(tree_entropy, X_test))\n",
    "print(calc_accuracy(tree_entropy, X_train))\n",
    "print(\"#########\")\n",
    "\n",
    "print(\"tree_entropy_gain_ratio\")\n",
    "print(calc_accuracy(tree_entropy_gain_ratio, X_test))\n",
    "print(calc_accuracy(tree_entropy_gain_ratio, X_train))\n"
   ]
  },
  {
   "cell_type": "markdown",
   "metadata": {},
   "source": [
    "## Depth pruning\n",
    "\n",
    "(15 points)\n",
    "\n",
    "Consider the following max_depth values: [1, 2, 3, 4, 5, 6, 7, 8]. For each value, construct a tree and prune it according to the max_depth value = don't let the tree to grow beyond this depth. Next, calculate the training and testing accuracy.<br>\n",
    "On a single plot, draw the training and testing accuracy as a function of the max_depth. Mark the best result on the graph with red circle."
   ]
  },
  {
   "cell_type": "code",
   "execution_count": 19,
   "metadata": {},
   "outputs": [
    {
     "data": {
      "image/png": "[encoded data removed]",
      "text/plain": [
       "<Figure size 720x576 with 1 Axes>"
      ]
     },
     "metadata": {
      "needs_background": "light"
     },
     "output_type": "display_data"
    }
   ],
   "source": [
    "depths = np.arange(8) + 1\n",
    "depth_train_accuracies, depth_test_accuracies = [], []\n",
    "test_depth_trees = []\n",
    "index, max_val = 0, 0\n",
    "for depth in depths:\n",
    "    tree = build_tree(data=X_train, impurity=calc_entropy, gain_ratio=True, max_depth=depth)\n",
    "    depth_train_accuracies.append(calc_accuracy(tree, X_train))\n",
    "    depth_test_accuracies.append(calc_accuracy(tree, X_test))\n",
    "    test_depth_trees.append(tree)\n",
    "    # get the index of the best result for us to mark it with a red circle!\n",
    "    if max_val < depth_test_accuracies[-1]:\n",
    "        max_val = depth_test_accuracies[-1]\n",
    "        index = depth\n",
    "\n",
    "plt.xlabel('depth')\n",
    "plt.ylabel('accuracy')\n",
    "plt.title('Tree accuracy according to depth')\n",
    "plt.plot(depths, depth_train_accuracies)\n",
    "plt.plot(depths, depth_test_accuracies)\n",
    "plt.scatter(index, max_val, s=500, facecolors='none', edgecolors='r') # the red circle\n",
    "plt.show()"
   ]
  },
  {
   "cell_type": "markdown",
   "metadata": {},
   "source": [
    "## Min Samples Split\n",
    "\n",
    "(15 points)\n",
    "\n",
    "Consider the following min_samples_split values: [1, 5, 10, 20, 50]. For each value, construct a tree and prune it according to the min_samples_split value = don't split a node if the number of sample in it is less or equal to the min_samples_split value. Next, calculate the training and testing accuracy.<br>\n",
    "On a single plot, draw the training and testing accuracy as a function of the min_samples_split. Mark the best result on the graph with red circle. (make sure that the x-axis ticks represent the values of min_samples_split)"
   ]
  },
  {
   "cell_type": "code",
   "execution_count": 20,
   "metadata": {},
   "outputs": [
    {
     "data": {
      "image/png": "[encoded data removed]",
      "text/plain": [
       "<Figure size 720x576 with 1 Axes>"
      ]
     },
     "metadata": {
      "needs_background": "light"
     },
     "output_type": "display_data"
    }
   ],
   "source": [
    "min_samples = np.array([1, 5, 10, 20, 50])\n",
    "sam_train_accuracies, sam_test_accuracies = [], []\n",
    "test_sam_trees = []\n",
    "index, max_val = 0, 0\n",
    "for sam in min_samples:\n",
    "    tree = build_tree(\n",
    "        data=X_train, impurity=calc_entropy, gain_ratio=True, min_samples_split=sam\n",
    "    )\n",
    "    sam_train_accuracies.append(calc_accuracy(tree, X_train))\n",
    "    sam_test_accuracies.append(calc_accuracy(tree, X_test))\n",
    "    test_sam_trees.append(tree)\n",
    "    if max_val < sam_test_accuracies[-1]:\n",
    "        max_val = sam_test_accuracies[-1]\n",
    "        index = sam\n",
    "\n",
    "plt.xlabel('min samples')\n",
    "plt.ylabel('accuracy')\n",
    "plt.title('Tree accuracy according to min samples')\n",
    "plt.plot(min_samples, sam_train_accuracies)\n",
    "plt.plot(min_samples, sam_test_accuracies)\n",
    "plt.scatter(index, max_val, s=500, facecolors='none',\n",
    "            edgecolors='r')  # the red circle\n",
    "plt.show()\n"
   ]
  },
  {
   "cell_type": "markdown",
   "metadata": {},
   "source": [
    "Build the best 2 trees:\n",
    "1. tree_max_depth - the best tree according to max_depth pruning\n",
    "1. tree_min_samples_split - the best tree according to min_samples_split pruning"
   ]
  },
  {
   "cell_type": "code",
   "execution_count": 21,
   "metadata": {},
   "outputs": [],
   "source": [
    "# run on test accuracies and fetch best tree according to the best accuracy\n",
    "tree_max_depth = None\n",
    "best_index = 0\n",
    "best_acc_depth = 0\n",
    "for i, acc in enumerate(depth_test_accuracies):\n",
    "    if best_acc_depth < acc:\n",
    "        best_acc_depth = acc\n",
    "        best_index = i\n",
    "tree_max_depth = test_depth_trees[best_index]\n",
    "\n",
    "tree_min_samples_split = None\n",
    "best_index = 0\n",
    "best_acc_sam = 0\n",
    "for i, acc in enumerate(sam_test_accuracies):\n",
    "    if best_acc_sam < acc:\n",
    "        best_acc_sam = acc\n",
    "        best_index = i\n",
    "tree_min_samples_split = test_sam_trees[best_index]"
   ]
  },
  {
   "cell_type": "markdown",
   "metadata": {},
   "source": [
    "## Number of Nodes\n",
    "\n",
    "(5 points)\n",
    "\n",
    "Complete the function counts_nodes and print the number of nodes in each tree and print the number of nodes of the two trees above"
   ]
  },
  {
   "cell_type": "code",
   "execution_count": 22,
   "metadata": {},
   "outputs": [],
   "source": [
    "def count_nodes(node):\n",
    "    \"\"\"\n",
    "    Count the number of node in a given tree\n",
    "\n",
    "    Input:\n",
    "    - node: a node in the decision tree.\n",
    "\n",
    "    Output: the number of node in the tree.\n",
    "    \"\"\"\n",
    "\n",
    "    num_of_nodes = 1\n",
    "    node_list = [node]\n",
    "\n",
    "    while True:\n",
    "        if not len(node_list):\n",
    "            break\n",
    "        \n",
    "        next_father = node_list.pop()\n",
    "        num_of_nodes += len(next_father.children)\n",
    "        for child in next_father.children:\n",
    "            node_list.append(child)\n",
    "\n",
    "    return num_of_nodes\n"
   ]
  },
  {
   "cell_type": "code",
   "execution_count": 23,
   "metadata": {},
   "outputs": [
    {
     "name": "stdout",
     "output_type": "stream",
     "text": [
      "nodes in tree_max_depth: 205\n",
      "nodes in tree_min_samples_split: 349\n"
     ]
    }
   ],
   "source": [
    "print(f\"nodes in tree_max_depth: {count_nodes(tree_max_depth)}\") \n",
    "print(f\"nodes in tree_min_samples_split: {count_nodes(tree_min_samples_split)}\")\n"
   ]
  },
  {
   "cell_type": "markdown",
   "metadata": {},
   "source": [
    "## Print the tree\n",
    "\n",
    "Complete the function `print_tree`. Your tree should be visualized clearly. You can use the following example as a reference:\n",
    "```\n",
    "[ROOT, feature=X0],\n",
    "  [X0=a, feature=X2]\n",
    "    [X2=c, leaf]: [{1.0: 10}]\n",
    "    [X2=d, leaf]: [{0.0: 10}]\n",
    "  [X0=y, feature=X5], \n",
    "    [X5=a, leaf]: [{1.0: 5}]\n",
    "    [X5=s, leaf]: [{0.0: 10}]\n",
    "  [X0=e, leaf]: [{0.0: 25, 1.0: 50}]\n",
    "```\n",
    "In each brackets:\n",
    "* The first argument is the parent feature with the value that led to current node\n",
    "* The second argument is the selected feature of the current node\n",
    "* If the current node is a leaf, you need to print also the labels and their counts\n",
    "\n",
    "(5 points)"
   ]
  },
  {
   "cell_type": "code",
   "execution_count": 24,
   "metadata": {},
   "outputs": [],
   "source": [
    "def inner_print(node, father, is_root = False, spaces=\"\"):\n",
    "        pfi = val = mfi = equalSign = spaces = \"\"\n",
    "\n",
    "        # General print template: [parent_feature_index=value, \"feature\"=my_feature_index]\n",
    "        # Root: parent_feature_index = \"ROOT\", no value and = before that\n",
    "        # Node: same as template\n",
    "        # Leaf: \"feature\"=my_feature_index ==> \"leaf\", after template add -> [template]: [{label: count} for each label]\n",
    "        tmpl = \"[$pfi$$=$$val$, $inner$]\"\n",
    "        \n",
    "        if father:\n",
    "            pfi = father.feature\n",
    "        else:\n",
    "            pfi = \"ROOT\"\n",
    "        mfi = node.feature\n",
    "\n",
    "        if is_root:\n",
    "            is_root = False\n",
    "            equalSign = \"\"\n",
    "            val = \"\"\n",
    "            pfi = \"ROOT\"\n",
    "        else:\n",
    "            equalSign = \"=\"\n",
    "            val = node.value\n",
    "        tpl = (\"    \"*node.depth) + tmpl\n",
    "\n",
    "        if not len(node.children): # is a leaf\n",
    "            tpl = tpl.replace(\"$inner$\", \"leaf\")\n",
    "            distinct_values, distinct_counts = np.unique(node.data[:, -1], return_counts=True)\n",
    "            extra = \": [\"\n",
    "            for i, dval in enumerate(distinct_values):\n",
    "                extra += \"{\"\n",
    "                extra += f\"{dval}: {distinct_counts[i]}\" + \"} \"\n",
    "            extra = extra[:len(extra)-1]\n",
    "            extra += \"]\" \n",
    "            tpl = tpl + extra\n",
    "        else:\n",
    "            tpl = tpl.replace(\"$inner$\", f\"feature={mfi}\")\n",
    "\n",
    "        tpl = tpl.replace(\"$=$\", equalSign)\n",
    "        tpl = tpl.replace(\"$mfi$\", str(mfi))\n",
    "        tpl = tpl.replace(\"$pfi$\", str(pfi))\n",
    "        tpl = tpl.replace(\"$val$\", str(val))\n",
    "                \n",
    "        print(tpl)\n",
    "\n",
    "def travel(children, depth):\n",
    "    for node in children:\n",
    "        # dont draw beyond given depth\n",
    "        if node.depth >= depth + 1:\n",
    "            return\n",
    "\n",
    "        inner_print(node, node.father)\n",
    "        if node.children:\n",
    "            travel(node.children, depth)\n",
    "\n",
    "# you can change the function signeture\n",
    "def print_tree(node, depth=3, parent_feature='ROOT', feature_val='ROOT'):\n",
    "    '''\n",
    "    prints the tree according to the example above\n",
    "\n",
    "    Input:\n",
    "    - node: a node in the decision tree\n",
    "\n",
    "    This function has no return value\n",
    "    '''\n",
    "    inner_print(node, None, is_root=True)\n",
    "    travel(node.children, depth)\n"
   ]
  },
  {
   "cell_type": "markdown",
   "metadata": {},
   "source": [
    "print the tree with the best test accuracy and with less than 50 nodes (from the two pruning methods)"
   ]
  },
  {
   "cell_type": "code",
   "execution_count": 25,
   "metadata": {},
   "outputs": [
    {
     "name": "stdout",
     "output_type": "stream",
     "text": [
      "[ROOT, feature=4]\n",
      "    [4=a, feature=2]\n",
      "        [2=n, leaf]: [{e: 33} {p: 5}]\n",
      "        [2=w, leaf]: [{e: 107} {p: 7}]\n",
      "        [2=y, leaf]: [{e: 133} {p: 19}]\n",
      "    [4=c, feature=6]\n",
      "        [6=c, leaf]: [{e: 7} {p: 63}]\n",
      "        [6=w, leaf]: [{e: 3} {p: 74}]\n",
      "    [4=f, feature=10]\n",
      "        [10=f, leaf]: [{e: 14} {p: 91}]\n",
      "        [10=k, leaf]: [{e: 134} {p: 1037}]\n",
      "        [10=s, leaf]: [{e: 22} {p: 310}]\n",
      "    [4=l, feature=1]\n",
      "        [1=f, leaf]: [{e: 19} {p: 1}]\n",
      "        [1=s, leaf]: [{e: 94} {p: 16}]\n",
      "        [1=y, leaf]: [{e: 159} {p: 10}]\n",
      "    [4=m, feature=0]\n",
      "        [0=f, leaf]: [{e: 1} {p: 8}]\n",
      "        [0=k, leaf]: [{e: 1} {p: 10}]\n",
      "        [0=x, leaf]: [{p: 7}]\n",
      "    [4=n, feature=7]\n",
      "        [7=b, leaf]: [{e: 2197} {p: 286}]\n",
      "        [7=n, leaf]: [{e: 135} {p: 58}]\n",
      "    [4=p, feature=0]\n",
      "        [0=f, leaf]: [{e: 7} {p: 86}]\n",
      "        [0=x, leaf]: [{e: 1} {p: 89}]\n",
      "    [4=s, feature=13]\n",
      "        [13=p, leaf]: [{e: 12} {p: 190}]\n",
      "        [13=w, leaf]: [{e: 26} {p: 190}]\n",
      "    [4=y, feature=1]\n",
      "        [1=s, leaf]: [{e: 18} {p: 194}]\n",
      "        [1=y, leaf]: [{e: 31} {p: 188}]\n"
     ]
    }
   ],
   "source": [
    "# best one found under 50 nodes is calc_entropy with gain ratio on, using max depth of 2 and min split of 1\n",
    "print_tree(build_tree(X_train, calc_entropy, gain_ratio=True, min_samples_split=1, max_depth=2))"
   ]
  }
 ],
 "metadata": {
  "celltoolbar": "Create Assignment",
  "kernelspec": {
   "display_name": "Python 3",
   "language": "python",
   "name": "python3"
  },
  "language_info": {
   "codemirror_mode": {
    "name": "ipython",
    "version": 3
   },
   "file_extension": ".py",
   "mimetype": "text/x-python",
   "name": "python",
   "nbconvert_exporter": "python",
   "pygments_lexer": "ipython3",
   "version": "3.9.7"
  }
 },
 "nbformat": 4,
 "nbformat_minor": 4
}
